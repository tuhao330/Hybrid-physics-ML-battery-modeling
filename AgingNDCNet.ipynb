{
 "cells": [
  {
   "cell_type": "code",
   "execution_count": 1,
   "metadata": {
    "colab": {},
    "colab_type": "code",
    "id": "3vglFz7XgiLe"
   },
   "outputs": [],
   "source": [
    "import pandas as pd\n",
    "import numpy as np\n",
    "import math\n",
    "import tensorflow as tf\n",
    "from tensorflow.keras.models import Sequential\n",
    "from tensorflow.keras.layers import LSTM, SimpleRNN, Dense, Dropout, Flatten, Bidirectional,TimeDistributed\n",
    "from sklearn.metrics import mean_squared_error\n",
    "from sklearn.preprocessing import MinMaxScaler"
   ]
  },
  {
   "cell_type": "code",
   "execution_count": 2,
   "metadata": {},
   "outputs": [],
   "source": [
    "# Load training data\n",
    "# Training cycle index\n",
    "cyc = range(1,46)\n",
    "\n",
    "# cyc = [1, 9, 18, 27, 36, 45]\n",
    "\n",
    "# Training current profile\n",
    "arr = ['1C','2C','4C','6C','UDDS','US06']#,'3C','5C','SC04','LA92']\n",
    "\n",
    "# arr = ['1C','2C','4C','6C','UDDS','US06','3C','5C','SC04','LA92']\n",
    "\n",
    "j=1\n",
    "for x in cyc:\n",
    "    x = \"%.2d\" % x\n",
    "    for y in arr:\n",
    "        if j == 1:\n",
    "            name1 = 'Journal_data/Exp_SOH/sam2/cycle_' + str(x) + '/Cycle_' + str(x) + '_Real_'+ str(y) + '_discharge_cut.csv'\n",
    "            Real = np.array(pd.read_csv(name1,header = None))\n",
    "            name2 = 'Journal_data/Exp_SOH/sam2/cycle_' + str(x) + '/Cycle_' + str(x) + '_NDC_'+ str(y) + '_discharge.csv'\n",
    "            NDC = np.array(pd.read_csv(name2,header = None))\n",
    "            NDC = np.concatenate((NDC,NDC[0,1]*np.ones((len(NDC),1))), axis = 1) # Add SOH value\n",
    "        \n",
    "        if j > 1:\n",
    "            name1 = 'Journal_data/Exp_SOH/sam2/cycle_' + str(x) + '/Cycle_' + str(x) + '_Real_'+ str(y) + '_discharge_cut.csv'\n",
    "            Real = np.concatenate((Real, np.array(pd.read_csv(name1,header = None))),axis = 0)\n",
    "            name2 = 'Journal_data/Exp_SOH/sam2/cycle_' + str(x) + '/Cycle_' + str(x) + '_NDC_'+ str(y) + '_discharge.csv'\n",
    "            temp = np.array(pd.read_csv(name2,header = None))\n",
    "            temp = np.concatenate((temp,temp[0,1]*np.ones((len(temp),1))), axis = 1) # Add SOH value\n",
    "            NDC = np.concatenate((NDC,temp),axis = 0)\n",
    "        j=j+1"
   ]
  },
  {
   "cell_type": "code",
   "execution_count": 3,
   "metadata": {
    "colab": {
     "base_uri": "https://localhost:8080/",
     "height": 51
    },
    "colab_type": "code",
    "id": "q6yFkOYpOQNT",
    "outputId": "2dac1540-aeec-4a6b-f5b8-a4c58f5a26f0"
   },
   "outputs": [
    {
     "name": "stdout",
     "output_type": "stream",
     "text": [
      "Concatenate SPM train length: 581567\n",
      "Concatenate Real train length: 581567\n"
     ]
    }
   ],
   "source": [
    "print(\"Concatenate SPM train length: \" + str(len(NDC)))\n",
    "print(\"Concatenate Real train length: \" + str(len(Real)))"
   ]
  },
  {
   "cell_type": "code",
   "execution_count": 4,
   "metadata": {
    "colab": {},
    "colab_type": "code",
    "id": "wog4aUbl34cH"
   },
   "outputs": [],
   "source": [
    "## Learning deltaV\n",
    "deltaV = Real.reshape(len(Real),1) - NDC[:,0].reshape(len(NDC),1)"
   ]
  },
  {
   "cell_type": "code",
   "execution_count": 5,
   "metadata": {
    "colab": {},
    "colab_type": "code",
    "id": "9Rg58-stmsIw"
   },
   "outputs": [],
   "source": [
    "#Construct training data\n",
    "trainX = np.zeros((len(NDC),6))\n",
    "# trainX[:,0] = SPM[:,0] # 0: Voltage\n",
    "trainX[:,0] = NDC[:,1] # 1: Bulk SoC\n",
    "trainX[:,1] = NDC[:,2] # 2: Surface SoC\n",
    "trainX[:,2] = NDC[:,3] # 3: V1\n",
    "# trainX[:,3] = NDC[:,4] # 4: SoC\n",
    "# trainX[:,4] = NDC[:,5] # 5: R0\n",
    "trainX[:,3] = -NDC[:,6] # 6: current\n",
    "trainX[:,4] = NDC[:,7] # 7: temperature\n",
    "trainX[:,5] = NDC[:,8] # 8: SoH\n",
    "\n",
    "# trainY = Real\n",
    "trainY = deltaV"
   ]
  },
  {
   "cell_type": "code",
   "execution_count": 6,
   "metadata": {
    "colab": {},
    "colab_type": "code",
    "id": "7KUXDHWGODob"
   },
   "outputs": [],
   "source": [
    "scaler1 = MinMaxScaler()\n",
    "scaler1.fit(trainX)\n",
    "normalizedX = scaler1.transform(trainX)\n",
    "scaler2 = MinMaxScaler()\n",
    "scaler2.fit(trainY)\n",
    "normalizedY = scaler2.transform(trainY)"
   ]
  },
  {
   "cell_type": "code",
   "execution_count": 7,
   "metadata": {
    "colab": {},
    "colab_type": "code",
    "id": "x_verPU9yHOY"
   },
   "outputs": [],
   "source": [
    "trainX = normalizedX\n",
    "trainY = normalizedY"
   ]
  },
  {
   "cell_type": "code",
   "execution_count": 8,
   "metadata": {
    "colab": {
     "base_uri": "https://localhost:8080/",
     "height": 34
    },
    "colab_type": "code",
    "id": "fexFYjXtNSFr",
    "outputId": "1aadb99c-5ea1-45f2-a117-4e555129ed55"
   },
   "outputs": [
    {
     "name": "stdout",
     "output_type": "stream",
     "text": [
      "Initial Score: RMSE 0.08768715665209224\n"
     ]
    }
   ],
   "source": [
    "initScore = math.sqrt(mean_squared_error(Real.reshape(len(Real),1), NDC[:,0].reshape(len(NDC),1)))\n",
    "print(\"Initial Score: RMSE \" + str(initScore))"
   ]
  },
  {
   "cell_type": "code",
   "execution_count": 9,
   "metadata": {
    "colab": {
     "base_uri": "https://localhost:8080/",
     "height": 221
    },
    "colab_type": "code",
    "id": "RYPbk5_xilcU",
    "outputId": "f0f73a72-46ce-4c21-86c3-d81af3a04675"
   },
   "outputs": [
    {
     "name": "stdout",
     "output_type": "stream",
     "text": [
      "Model: \"sequential\"\n",
      "_________________________________________________________________\n",
      "Layer (type)                 Output Shape              Param #   \n",
      "=================================================================\n",
      "dense (Dense)                (None, 32)                224       \n",
      "_________________________________________________________________\n",
      "dense_1 (Dense)              (None, 32)                1056      \n",
      "_________________________________________________________________\n",
      "dense_2 (Dense)              (None, 1)                 33        \n",
      "=================================================================\n",
      "Total params: 1,313\n",
      "Trainable params: 1,313\n",
      "Non-trainable params: 0\n",
      "_________________________________________________________________\n"
     ]
    }
   ],
   "source": [
    "model = Sequential()\n",
    "\n",
    "model.add(Dense(32, input_dim=6, activation='relu'))\n",
    "model.add(Dense(32, activation='relu'))\n",
    "model.add(Dense(1,activation='linear'))\n",
    "\n",
    "model.compile(loss='mean_squared_error',optimizer='adam')\n",
    "model.summary()"
   ]
  },
  {
   "cell_type": "code",
   "execution_count": 10,
   "metadata": {
    "colab": {
     "base_uri": "https://localhost:8080/",
     "height": 1000
    },
    "colab_type": "code",
    "id": "YrtSJmeii6y4",
    "outputId": "2c4f3e0a-b3e5-40ac-f9be-9666599fff66"
   },
   "outputs": [
    {
     "data": {
      "text/plain": [
       "<tensorflow.python.keras.callbacks.History at 0x2d33b232e48>"
      ]
     },
     "execution_count": 10,
     "metadata": {},
     "output_type": "execute_result"
    }
   ],
   "source": [
    "# train NN\n",
    "model.fit(trainX, trainY, epochs=300, verbose=0)"
   ]
  },
  {
   "cell_type": "code",
   "execution_count": 11,
   "metadata": {
    "colab": {
     "base_uri": "https://localhost:8080/",
     "height": 34
    },
    "colab_type": "code",
    "id": "V1YV64uHKavY",
    "outputId": "20a55112-a2a9-4b55-9145-a288133e224d",
    "scrolled": true
   },
   "outputs": [
    {
     "name": "stdout",
     "output_type": "stream",
     "text": [
      "Train Score: RMSE 0.009706787003386091\n"
     ]
    }
   ],
   "source": [
    "trainPredict = model.predict(trainX)\n",
    "trainPredict = scaler2.inverse_transform(trainPredict.reshape(len(trainPredict),1))\n",
    "trainScore = math.sqrt(mean_squared_error(deltaV, trainPredict.reshape(len(trainPredict),1)))\n",
    "print(\"Train Score: RMSE \" + str(trainScore))"
   ]
  },
  {
   "cell_type": "code",
   "execution_count": null,
   "metadata": {},
   "outputs": [],
   "source": [
    "# # Testing cycle index\n",
    "# x = \"%.2d\" %28\n",
    "# # Testing current profile\n",
    "# y = 'SC04'\n",
    "\n",
    "# name1 = 'Journal_data/Exp_SOH/cycle_' + str(x) + '/Cycle_' + str(x) + '_Real_'+ str(y) + '_discharge_cut.csv'\n",
    "# Real_T = np.array(pd.read_csv(name1,header = None))\n",
    "# name2 = 'Journal_data/Exp_SOH/cycle_' + str(x) + '/Cycle_' + str(x) + '_NDC_'+ str(y) + '_discharge.csv'\n",
    "# NDC_T = np.array(pd.read_csv(name2,header = None))\n",
    "# NDC_T = np.concatenate((NDC_T,NDC_T[0,1]*np.ones((len(NDC_T),1))), axis = 1) # Add SOH value\n",
    "\n",
    "# #Construct testing data\n",
    "# testX = np.zeros((len(NDC_T),6))\n",
    "# # testX[:,0] = NDC_T[:,0]\n",
    "# testX[:,0] = NDC_T[:,1]\n",
    "# testX[:,1] = NDC_T[:,2]\n",
    "# testX[:,2] = NDC_T[:,3]\n",
    "# # testX[:,3] = NDC_T[:,4]\n",
    "# # testX[:,4] = NDC_T[:,5]\n",
    "# testX[:,3] = -NDC_T[:,6]\n",
    "# testX[:,4] = NDC_T[:,7]\n",
    "# testX[:,5] = NDC_T[:,8]\n",
    "\n",
    "# testY =  Real_T.reshape(len(Real_T),1) - NDC_T[:,0].reshape(len(NDC_T),1)\n",
    "# # testY = Real_T\n",
    "# normalizedXtest = scaler1.transform(testX)"
   ]
  },
  {
   "cell_type": "code",
   "execution_count": null,
   "metadata": {
    "colab": {
     "base_uri": "https://localhost:8080/",
     "height": 34
    },
    "colab_type": "code",
    "id": "ToHUhxocURJ0",
    "outputId": "d440354f-145d-4786-9392-aa5d610020f6"
   },
   "outputs": [],
   "source": [
    "# testPredict = model.predict(normalizedXtest)\n",
    "# testPredict = scaler2.inverse_transform(testPredict)\n",
    "# testScore = math.sqrt(mean_squared_error(testY,testPredict.reshape(len(testPredict),1)))\n",
    "# print(\"Test Score: RMSE \" + str(testScore))\n",
    "# InitialScore = math.sqrt(mean_squared_error(Real_T, NDC_T[:,0]))\n",
    "# print(\"Initial Score: RMSE \" + str(InitialScore))"
   ]
  },
  {
   "cell_type": "code",
   "execution_count": null,
   "metadata": {},
   "outputs": [],
   "source": [
    "# # save data voltage residual\n",
    "# np.savetxt('Results(Journal paper)/HYBRID1/predict_H1_Test_3C.csv', NDC_T[:,0].reshape(len(NDC_T),1) + testPredict.reshape(len(testPredict),1), delimiter=',')"
   ]
  },
  {
   "cell_type": "code",
   "execution_count": null,
   "metadata": {},
   "outputs": [],
   "source": [
    "# # save data termainal voltage\n",
    "# np.savetxt('Results(Journal paper)/HYBRID2/predict_H2_Test_UDDS.csv', testPredict.reshape(len(testPredict),1), delimiter=',')"
   ]
  },
  {
   "cell_type": "code",
   "execution_count": 21,
   "metadata": {},
   "outputs": [],
   "source": [
    "# Testing cycle index\n",
    "Score = []\n",
    "for idx in range(1,46):\n",
    "    \n",
    "    x = \"%.2d\" %idx\n",
    "    # Testing current profile\n",
    "    y = '6C'\n",
    "\n",
    "    name1 = 'Journal_data/Exp_SOH/sam3/cycle_' + str(x) + '/Cycle_' + str(x) + '_Real_'+ str(y) + '_discharge_cut.csv'\n",
    "    Real_T = np.array(pd.read_csv(name1,header = None))\n",
    "    name2 = 'Journal_data/Exp_SOH/sam3/cycle_' + str(x) + '/Cycle_' + str(x) + '_NDC_'+ str(y) + '_discharge.csv'\n",
    "    NDC_T = np.array(pd.read_csv(name2,header = None))\n",
    "    NDC_T = np.concatenate((NDC_T,NDC_T[0,1]*np.ones((len(NDC_T),1))), axis = 1) # Add SOH value\n",
    "\n",
    "    #Construct testing data\n",
    "    testX = np.zeros((len(NDC_T),6))\n",
    "    # testX[:,0] = NDC_T[:,0]\n",
    "    testX[:,0] = NDC_T[:,1]\n",
    "    testX[:,1] = NDC_T[:,2]\n",
    "    testX[:,2] = NDC_T[:,3]\n",
    "    # testX[:,3] = NDC_T[:,4]\n",
    "    # testX[:,4] = NDC_T[:,5]\n",
    "    testX[:,3] = -NDC_T[:,6]\n",
    "    testX[:,4] = NDC_T[:,7]\n",
    "    testX[:,5] = NDC_T[:,8]\n",
    "\n",
    "    testY =  Real_T.reshape(len(Real_T),1) - NDC_T[:,0].reshape(len(NDC_T),1)\n",
    "    # testY = Real_T\n",
    "    normalizedXtest = scaler1.transform(testX)\n",
    "\n",
    "    testPredict = model.predict(normalizedXtest)\n",
    "    testPredict = scaler2.inverse_transform(testPredict)\n",
    "    testScore = math.sqrt(mean_squared_error(testY,testPredict.reshape(len(testPredict),1)))\n",
    "#     print(\"Test Score: RMSE \" + str(testScore))\n",
    "    InitialScore = math.sqrt(mean_squared_error(Real_T, NDC_T[:,0]))\n",
    "#     print(\"Initial Score: RMSE \" + str(InitialScore))\n",
    "    \n",
    "    Score.append([InitialScore*1000, testScore*1000])\n",
    "    \n",
    "# save Score \n",
    "np.savetxt('Sam3_Testscore_' + y + '.csv', Score, delimiter=',')"
   ]
  },
  {
   "cell_type": "code",
   "execution_count": null,
   "metadata": {},
   "outputs": [],
   "source": []
  },
  {
   "cell_type": "code",
   "execution_count": null,
   "metadata": {},
   "outputs": [],
   "source": []
  }
 ],
 "metadata": {
  "colab": {
   "collapsed_sections": [],
   "name": "Hybrid Model.ipynb",
   "provenance": []
  },
  "kernelspec": {
   "display_name": "Python 3",
   "language": "python",
   "name": "python3"
  },
  "language_info": {
   "codemirror_mode": {
    "name": "ipython",
    "version": 3
   },
   "file_extension": ".py",
   "mimetype": "text/x-python",
   "name": "python",
   "nbconvert_exporter": "python",
   "pygments_lexer": "ipython3",
   "version": "3.6.13"
  }
 },
 "nbformat": 4,
 "nbformat_minor": 1
}
