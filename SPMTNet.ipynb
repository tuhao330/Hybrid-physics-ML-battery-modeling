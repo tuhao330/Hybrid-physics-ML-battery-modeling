{
 "cells": [
  {
   "cell_type": "code",
   "execution_count": 1,
   "metadata": {
    "colab": {},
    "colab_type": "code",
    "id": "3vglFz7XgiLe"
   },
   "outputs": [],
   "source": [
    "import pandas as pd\n",
    "import numpy as np\n",
    "import math\n",
    "import tensorflow as tf\n",
    "from tensorflow.keras.models import Sequential\n",
    "from tensorflow.keras.layers import LSTM, SimpleRNN, Dense, Dropout, Flatten, Bidirectional,TimeDistributed\n",
    "from sklearn.metrics import mean_squared_error\n",
    "from sklearn.preprocessing import MinMaxScaler"
   ]
  },
  {
   "cell_type": "code",
   "execution_count": 2,
   "metadata": {},
   "outputs": [],
   "source": [
    "# 0.2C\n",
    "DFN_02C_0 = np.array(pd.read_csv('Journal_data/Sim/DFN_02C.csv',header = None))\n",
    "SPM_02C_0 = np.array(pd.read_csv('Journal_data/Sim/SPMT_02C.csv',header = None))[:17794]\n",
    "# 0.5C\n",
    "DFN_05C_0 = np.array(pd.read_csv('Journal_data/Sim/DFN_05C.csv',header = None))[:7011]\n",
    "SPM_05C_0 = np.array(pd.read_csv('Journal_data/Sim/SPMT_05C.csv',header = None))\n",
    "# 1C\n",
    "DFN_1C_0 = np.array(pd.read_csv('Journal_data/Sim/DFN_1C.csv',header = None))[:3426]\n",
    "SPM_1C_0 = np.array(pd.read_csv('Journal_data/Sim/SPMT_1C.csv',header = None))\n",
    "# 2C\n",
    "DFN_2C_0 = np.array(pd.read_csv('Journal_data/Sim/DFN_2C.csv',header = None))[:1648]\n",
    "SPM_2C_0 = np.array(pd.read_csv('Journal_data/Sim/SPMT_2C.csv',header = None))\n",
    "# 3C\n",
    "DFN_3C_0 = np.array(pd.read_csv('Journal_data/Sim/DFN_3C.csv',header = None))[:1067]\n",
    "SPM_3C_0 = np.array(pd.read_csv('Journal_data/Sim/SPMT_3C.csv',header = None))\n",
    "# 4C\n",
    "DFN_4C_0 = np.array(pd.read_csv('Journal_data/Sim/DFN_4C.csv',header = None))[:784]\n",
    "SPM_4C_0 = np.array(pd.read_csv('Journal_data/Sim/SPMT_4C.csv',header = None))\n",
    "# 5C\n",
    "DFN_5C_0 = np.array(pd.read_csv('Journal_data/Sim/DFN_5C.csv',header = None))[:618]\n",
    "SPM_5C_0 = np.array(pd.read_csv('Journal_data/Sim/SPMT_5C.csv',header = None))\n",
    "# 6C\n",
    "DFN_6C_0 = np.array(pd.read_csv('Journal_data/Sim/DFN_6C.csv',header = None))[:509]\n",
    "SPM_6C_0 = np.array(pd.read_csv('Journal_data/Sim/SPMT_6C.csv',header = None))\n",
    "# 7C\n",
    "DFN_7C_0 = np.array(pd.read_csv('Journal_data/Sim/DFN_7C.csv',header = None))[:429]\n",
    "SPM_7C_0 = np.array(pd.read_csv('Journal_data/Sim/SPMT_7C.csv',header = None))\n",
    "# 8C\n",
    "DFN_8C_0 = np.array(pd.read_csv('Journal_data/Sim/DFN_8C.csv',header = None))[:368]\n",
    "SPM_8C_0 = np.array(pd.read_csv('Journal_data/Sim/SPMT_8C.csv',header = None))\n",
    "# 9C\n",
    "DFN_9C_0 = np.array(pd.read_csv('Journal_data/Sim/DFN_9C.csv',header = None))[:321]\n",
    "SPM_9C_0 = np.array(pd.read_csv('Journal_data/Sim/SPMT_9C.csv',header = None))\n",
    "# 10C\n",
    "DFN_10C_0 = np.array(pd.read_csv('Journal_data/Sim/DFN_10C.csv',header = None))[:284]\n",
    "SPM_10C_0 = np.array(pd.read_csv('Journal_data/Sim/SPMT_10C.csv',header = None))\n",
    "# UDDS\n",
    "DFN_UDDS_0 = np.array(pd.read_csv('Journal_data/Sim/DFN_UDDSx2.csv',header = None))\n",
    "SPM_UDDS_0 = np.array(pd.read_csv('Journal_data/Sim/SPMT_UDDSx2.csv',header = None))[1:]\n",
    "# US06\n",
    "DFN_US06_0 = np.array(pd.read_csv('Journal_data/Sim/DFN_US06x6.csv',header = None))\n",
    "SPM_US06_0 = np.array(pd.read_csv('Journal_data/Sim/SPMT_US06x6.csv',header = None))[1:]\n",
    "# LA92\n",
    "DFN_LA92_0 = np.array(pd.read_csv('Journal_data/Sim/DFN_LA92x2.csv',header = None))\n",
    "SPM_LA92_0 = np.array(pd.read_csv('Journal_data/Sim/SPMT_LA92x2.csv',header = None))[1:]\n",
    "# SC04\n",
    "DFN_SC04_0 = np.array(pd.read_csv('Journal_data/Sim/DFN_SC04x4.csv',header = None))\n",
    "SPM_SC04_0 = np.array(pd.read_csv('Journal_data/Sim/SPMT_SC04x4.csv',header = None))[1:]\n",
    "\n",
    "DFN_0 = np.concatenate((DFN_02C_0,DFN_05C_0),axis=0)\n",
    "DFN_0 = np.concatenate((DFN_0,DFN_1C_0),axis=0)\n",
    "DFN_0 = np.concatenate((DFN_0,DFN_2C_0),axis=0)\n",
    "# DFN_0 = np.concatenate((DFN_0,DFN_3C_0),axis=0)\n",
    "DFN_0 = np.concatenate((DFN_0,DFN_4C_0),axis=0)\n",
    "# DFN_0 = np.concatenate((DFN_0,DFN_5C_0),axis=0)\n",
    "DFN_0 = np.concatenate((DFN_0,DFN_6C_0),axis=0)\n",
    "# DFN_0 = np.concatenate((DFN_0,DFN_7C_0),axis=0)\n",
    "DFN_0 = np.concatenate((DFN_0,DFN_8C_0),axis=0)\n",
    "# DFN_0 = np.concatenate((DFN_0,DFN_9C_0),axis=0)\n",
    "DFN_0 = np.concatenate((DFN_0,DFN_10C_0),axis=0)\n",
    "# DFN_0 = np.concatenate((DFN_0,DFN_UDDS_0),axis=0)\n",
    "DFN_0 = np.concatenate((DFN_0,DFN_US06_0),axis=0)\n",
    "DFN_0 = np.concatenate((DFN_0,DFN_LA92_0),axis=0)\n",
    "# DFN_0 = np.concatenate((DFN_0,DFN_SC04_0),axis=0)\n",
    "# DFN_0 = np.concatenate((DFN_0,DFN_UDDS_0_2),axis=0)\n",
    "# DFN_0 = np.concatenate((DFN_0,DFN_US06_0_2),axis=0)\n",
    "# DFN_0 = np.concatenate((DFN_0,DFN_LA92_0_2),axis=0)\n",
    "# DFN_0 = np.concatenate((DFN_0,DFN_SC04_0_2),axis=0)\n",
    "\n",
    "SPM_0 = np.concatenate((SPM_02C_0,SPM_05C_0),axis=0)\n",
    "SPM_0 = np.concatenate((SPM_0,SPM_1C_0),axis=0)\n",
    "SPM_0 = np.concatenate((SPM_0,SPM_2C_0),axis=0)\n",
    "# SPM_0 = np.concatenate((SPM_0,SPM_3C_0),axis=0)\n",
    "SPM_0 = np.concatenate((SPM_0,SPM_4C_0),axis=0)\n",
    "# SPM_0 = np.concatenate((SPM_0,SPM_5C_0),axis=0)\n",
    "SPM_0 = np.concatenate((SPM_0,SPM_6C_0),axis=0)\n",
    "# SPM_0 = np.concatenate((SPM_0,SPM_7C_0),axis=0)\n",
    "SPM_0 = np.concatenate((SPM_0,SPM_8C_0),axis=0)\n",
    "# SPM_0 = np.concatenate((SPM_0,SPM_9C_0),axis=0)\n",
    "SPM_0 = np.concatenate((SPM_0,SPM_10C_0),axis=0)\n",
    "# SPM_0 = np.concatenate((SPM_0,SPM_UDDS_0),axis=0)\n",
    "SPM_0 = np.concatenate((SPM_0,SPM_US06_0),axis=0)\n",
    "SPM_0 = np.concatenate((SPM_0,SPM_LA92_0),axis=0)\n",
    "# SPM_0 = np.concatenate((SPM_0,SPM_SC04_0),axis=0)\n",
    "# SPM_0 = np.concatenate((SPM_0,SPM_UDDS_0_2),axis=0)\n",
    "# SPM_0 = np.concatenate((SPM_0,SPM_US06_0_2),axis=0)\n",
    "# SPM_0 = np.concatenate((SPM_0,SPM_LA92_0_2),axis=0)\n",
    "# SPM_0 = np.concatenate((SPM_0,SPM_SC04_0_2),axis=0)\n",
    "\n",
    "DFN = DFN_0\n",
    "SPM = SPM_0"
   ]
  },
  {
   "cell_type": "code",
   "execution_count": 3,
   "metadata": {
    "colab": {
     "base_uri": "https://localhost:8080/",
     "height": 51
    },
    "colab_type": "code",
    "id": "q6yFkOYpOQNT",
    "outputId": "2dac1540-aeec-4a6b-f5b8-a4c58f5a26f0"
   },
   "outputs": [
    {
     "name": "stdout",
     "output_type": "stream",
     "text": [
      "Concatenate SPM train length: 38350\n",
      "Concatenate DFN train length: 38350\n"
     ]
    }
   ],
   "source": [
    "print(\"Concatenate SPM train length: \" + str(len(SPM)))\n",
    "print(\"Concatenate DFN train length: \" + str(len(DFN)))"
   ]
  },
  {
   "cell_type": "code",
   "execution_count": 4,
   "metadata": {
    "colab": {},
    "colab_type": "code",
    "id": "wog4aUbl34cH"
   },
   "outputs": [],
   "source": [
    "# Learning deltaV\n",
    "deltaV = DFN.reshape(len(DFN),1) - SPM[:,0].reshape(len(SPM),1)"
   ]
  },
  {
   "cell_type": "code",
   "execution_count": 5,
   "metadata": {
    "colab": {},
    "colab_type": "code",
    "id": "9Rg58-stmsIw"
   },
   "outputs": [],
   "source": [
    "#Construct training data\n",
    "trainX = np.zeros((len(SPM),4))\n",
    "# trainX[:,0] = SPM[:,0] # 0: Voltage\n",
    "trainX[:,0] = SPM[:,1] # 1: Bulk SoC\n",
    "trainX[:,1] = SPM[:,2] # 2: Surface SoC\n",
    "trainX[:,2] = SPM[:,3] # 3: Temperature\n",
    "trainX[:,3] = SPM[:,4] # 4: Current  \n",
    "\n",
    "trainY = DFN\n",
    "# trainY = deltaV"
   ]
  },
  {
   "cell_type": "code",
   "execution_count": 6,
   "metadata": {
    "colab": {},
    "colab_type": "code",
    "id": "7KUXDHWGODob"
   },
   "outputs": [],
   "source": [
    "scaler1 = MinMaxScaler()\n",
    "scaler1.fit(trainX)\n",
    "normalizedX = scaler1.transform(trainX)\n",
    "scaler2 = MinMaxScaler()\n",
    "scaler2.fit(trainY)\n",
    "normalizedY = scaler2.transform(trainY)"
   ]
  },
  {
   "cell_type": "code",
   "execution_count": 7,
   "metadata": {
    "colab": {},
    "colab_type": "code",
    "id": "x_verPU9yHOY"
   },
   "outputs": [],
   "source": [
    "trainX = normalizedX\n",
    "trainY = normalizedY"
   ]
  },
  {
   "cell_type": "code",
   "execution_count": 8,
   "metadata": {
    "colab": {
     "base_uri": "https://localhost:8080/",
     "height": 34
    },
    "colab_type": "code",
    "id": "fexFYjXtNSFr",
    "outputId": "1aadb99c-5ea1-45f2-a117-4e555129ed55"
   },
   "outputs": [
    {
     "name": "stdout",
     "output_type": "stream",
     "text": [
      "Initial Score: RMSE 0.032395216472898364\n"
     ]
    }
   ],
   "source": [
    "initScore = math.sqrt(mean_squared_error(DFN.reshape(len(DFN),1), SPM[:,0].reshape(len(SPM),1)))\n",
    "print(\"Initial Score: RMSE \" + str(initScore))"
   ]
  },
  {
   "cell_type": "code",
   "execution_count": 9,
   "metadata": {
    "colab": {
     "base_uri": "https://localhost:8080/",
     "height": 221
    },
    "colab_type": "code",
    "id": "RYPbk5_xilcU",
    "outputId": "f0f73a72-46ce-4c21-86c3-d81af3a04675"
   },
   "outputs": [
    {
     "name": "stdout",
     "output_type": "stream",
     "text": [
      "Model: \"sequential\"\n",
      "_________________________________________________________________\n",
      "Layer (type)                 Output Shape              Param #   \n",
      "=================================================================\n",
      "dense (Dense)                (None, 32)                160       \n",
      "_________________________________________________________________\n",
      "dense_1 (Dense)              (None, 32)                1056      \n",
      "_________________________________________________________________\n",
      "dense_2 (Dense)              (None, 1)                 33        \n",
      "=================================================================\n",
      "Total params: 1,249\n",
      "Trainable params: 1,249\n",
      "Non-trainable params: 0\n",
      "_________________________________________________________________\n"
     ]
    }
   ],
   "source": [
    "model = Sequential()\n",
    "# model.add(SimpleRNN(units=32,input_shape=(look_back + 1,5)))\n",
    "# # model.add(LSTM(units=32,input_shape=(look_back + 1,4)))\n",
    "# model.add(Dense(units=1,activation='linear'))\n",
    "\n",
    "model.add(Dense(32, input_dim=4, activation='relu'))\n",
    "model.add(Dense(32, activation='relu'))\n",
    "model.add(Dense(1,activation='linear'))\n",
    "\n",
    "model.compile(loss='mean_squared_error',optimizer='adam')\n",
    "model.summary()"
   ]
  },
  {
   "cell_type": "code",
   "execution_count": 10,
   "metadata": {
    "colab": {
     "base_uri": "https://localhost:8080/",
     "height": 1000
    },
    "colab_type": "code",
    "id": "YrtSJmeii6y4",
    "outputId": "2c4f3e0a-b3e5-40ac-f9be-9666599fff66"
   },
   "outputs": [
    {
     "data": {
      "text/plain": [
       "<tensorflow.python.keras.callbacks.History at 0x14ba3df2f28>"
      ]
     },
     "execution_count": 10,
     "metadata": {},
     "output_type": "execute_result"
    }
   ],
   "source": [
    "# train NN\n",
    "model.fit(trainX, trainY, epochs=200, verbose=0)"
   ]
  },
  {
   "cell_type": "code",
   "execution_count": 11,
   "metadata": {
    "colab": {
     "base_uri": "https://localhost:8080/",
     "height": 34
    },
    "colab_type": "code",
    "id": "V1YV64uHKavY",
    "outputId": "20a55112-a2a9-4b55-9145-a288133e224d",
    "scrolled": true
   },
   "outputs": [
    {
     "name": "stdout",
     "output_type": "stream",
     "text": [
      "Train Score: RMSE 0.00530043487307937\n"
     ]
    }
   ],
   "source": [
    "trainPredict = model.predict(trainX)\n",
    "trainPredict = scaler2.inverse_transform(trainPredict.reshape(len(trainPredict),1))\n",
    "trainScore = math.sqrt(mean_squared_error(DFN, trainPredict.reshape(len(trainPredict),1)))\n",
    "print(\"Train Score: RMSE \" + str(trainScore))"
   ]
  },
  {
   "cell_type": "code",
   "execution_count": 38,
   "metadata": {},
   "outputs": [],
   "source": [
    "# # testing data overall\n",
    "# DFN_T = np.concatenate((DFN_3C_0,DFN_5C_0),axis=0)\n",
    "# DFN_T = np.concatenate((DFN_T,DFN_7C_0),axis=0)\n",
    "# DFN_T = np.concatenate((DFN_T,DFN_9C_0),axis=0)\n",
    "# DFN_T = np.concatenate((DFN_T,DFN_UDDS_0),axis=0)\n",
    "# DFN_T = np.concatenate((DFN_T,DFN_SC04_0),axis=0)\n",
    "\n",
    "# SPM_T = np.concatenate((SPM_3C_0,SPM_5C_0),axis=0)\n",
    "# SPM_T = np.concatenate((SPM_T,SPM_7C_0),axis=0)\n",
    "# SPM_T = np.concatenate((SPM_T,SPM_9C_0),axis=0)\n",
    "# SPM_T = np.concatenate((SPM_T,SPM_UDDS_0),axis=0)\n",
    "# SPM_T = np.concatenate((SPM_T,SPM_SC04_0),axis=0)\n",
    "\n",
    "DFN_T = DFN_10C_0\n",
    "SPM_T = SPM_10C_0\n",
    "\n",
    "# # testing data separately\n",
    "# # SPM_T = SPM_05C_0\n",
    "# # DFN_T = DFN_05C_0\n",
    "# SPM_T = SPM_US06_0\n",
    "# # SPM_T = np.concatenate((SPM_T,SPM_UDDS_100_2),axis=0)\n",
    "# DFN_T = DFN_US06_0\n",
    "# # DFN_T = np.concatenate((DFN_T,DFN_UDDS_100_2),axis=0)\n",
    "\n",
    "#Construct testing data\n",
    "testX = np.zeros((len(SPM_T),4))\n",
    "testX[:,0] = SPM_T[:,1]\n",
    "testX[:,1] = SPM_T[:,2]\n",
    "testX[:,2] = SPM_T[:,3]\n",
    "testX[:,3] = SPM_T[:,4]\n",
    "# testX[:,4] = SPM_T[:,5]\n",
    "# testY =  DFN_T.reshape(len(DFN_T),1) - SPM_T[:,0].reshape(len(SPM_T),1)\n",
    "testY = DFN_T\n",
    "normalizedXtest = scaler1.transform(testX)"
   ]
  },
  {
   "cell_type": "code",
   "execution_count": 39,
   "metadata": {
    "colab": {
     "base_uri": "https://localhost:8080/",
     "height": 34
    },
    "colab_type": "code",
    "id": "ToHUhxocURJ0",
    "outputId": "d440354f-145d-4786-9392-aa5d610020f6"
   },
   "outputs": [
    {
     "name": "stdout",
     "output_type": "stream",
     "text": [
      "Test Score: RMSE 0.003156196591961331\n",
      "Initial Score: RMSE 0.21265458511497592\n"
     ]
    }
   ],
   "source": [
    "testPredict = model.predict(normalizedXtest)\n",
    "testPredict = scaler2.inverse_transform(testPredict)\n",
    "testScore = math.sqrt(mean_squared_error(testY,testPredict.reshape(len(testPredict),1)))\n",
    "print(\"Test Score: RMSE \" + str(testScore))\n",
    "InitialScore = math.sqrt(mean_squared_error(DFN_T, SPM_T[:,0]))\n",
    "print(\"Initial Score: RMSE \" + str(InitialScore))"
   ]
  },
  {
   "cell_type": "code",
   "execution_count": null,
   "metadata": {},
   "outputs": [],
   "source": [
    "# save data voltage residual\n",
    "np.savetxt('Journal_results/HYBRID1/predict_H1_Test_3C.csv', SPM_T[:,0].reshape(len(SPM_T),1) + testPredict.reshape(len(testPredict),1), delimiter=',')"
   ]
  },
  {
   "cell_type": "code",
   "execution_count": null,
   "metadata": {},
   "outputs": [],
   "source": [
    "# save data termainal voltage\n",
    "np.savetxt('Journal_results/HYBRID2/predict_H2_Test_05C.csv', testPredict.reshape(len(testPredict),1), delimiter=',')"
   ]
  },
  {
   "cell_type": "code",
   "execution_count": null,
   "metadata": {},
   "outputs": [],
   "source": []
  }
 ],
 "metadata": {
  "colab": {
   "collapsed_sections": [],
   "name": "Hybrid Model.ipynb",
   "provenance": []
  },
  "kernelspec": {
   "display_name": "Python 3",
   "language": "python",
   "name": "python3"
  },
  "language_info": {
   "codemirror_mode": {
    "name": "ipython",
    "version": 3
   },
   "file_extension": ".py",
   "mimetype": "text/x-python",
   "name": "python",
   "nbconvert_exporter": "python",
   "pygments_lexer": "ipython3",
   "version": "3.6.10"
  }
 },
 "nbformat": 4,
 "nbformat_minor": 1
}
